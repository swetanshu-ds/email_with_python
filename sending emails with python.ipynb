{
 "cells": [
  {
   "cell_type": "code",
   "execution_count": 20,
   "id": "98726b2e",
   "metadata": {},
   "outputs": [],
   "source": [
    "##  to send emails with python ,we need to follow these steps "
   ]
  },
  {
   "cell_type": "code",
   "execution_count": 21,
   "id": "ed6ec6cc",
   "metadata": {},
   "outputs": [],
   "source": [
    "####   1..connecting to an email server\n",
    "####   2..confirming to an email server \n",
    "####   3..confirming connection\n",
    "####   4.. setting a protocol\n",
    "####   5..logging on\n",
    "####  6.. sending the message"
   ]
  },
  {
   "cell_type": "code",
   "execution_count": 22,
   "id": "b3077c40",
   "metadata": {},
   "outputs": [],
   "source": [
    "####  import smtplib library"
   ]
  },
  {
   "cell_type": "code",
   "execution_count": 23,
   "id": "5ee83ec4",
   "metadata": {},
   "outputs": [],
   "source": [
    "####  SMTP  == simple mail trasfer protocol"
   ]
  },
  {
   "cell_type": "code",
   "execution_count": 24,
   "id": "21f92977",
   "metadata": {},
   "outputs": [],
   "source": [
    "import smtplib"
   ]
  },
  {
   "cell_type": "code",
   "execution_count": 25,
   "id": "ba18fa4b",
   "metadata": {},
   "outputs": [],
   "source": [
    "smtp_object=smtplib.SMTP('smtp.gmail.com',587)"
   ]
  },
  {
   "cell_type": "code",
   "execution_count": 26,
   "id": "e59bc5a7",
   "metadata": {},
   "outputs": [],
   "source": [
    "###   to establish connection"
   ]
  },
  {
   "cell_type": "code",
   "execution_count": 27,
   "id": "3fcb0eff",
   "metadata": {},
   "outputs": [
    {
     "data": {
      "text/plain": [
       "(250,\n",
       " b'smtp.gmail.com at your service, [2405:201:6018:2039:f4e2:e246:d3ed:65d5]\\nSIZE 35882577\\n8BITMIME\\nSTARTTLS\\nENHANCEDSTATUSCODES\\nPIPELINING\\nCHUNKING\\nSMTPUTF8')"
      ]
     },
     "execution_count": 27,
     "metadata": {},
     "output_type": "execute_result"
    }
   ],
   "source": [
    "smtp_object.ehlo()"
   ]
  },
  {
   "cell_type": "code",
   "execution_count": 28,
   "id": "20cf230e",
   "metadata": {},
   "outputs": [],
   "source": [
    "####  to initiate  this sort of encryption"
   ]
  },
  {
   "cell_type": "code",
   "execution_count": 29,
   "id": "3a8846af",
   "metadata": {},
   "outputs": [
    {
     "data": {
      "text/plain": [
       "(220, b'2.0.0 Ready to start TLS')"
      ]
     },
     "execution_count": 29,
     "metadata": {},
     "output_type": "execute_result"
    }
   ],
   "source": [
    "smtp_object.starttls()        "
   ]
  },
  {
   "cell_type": "code",
   "execution_count": 30,
   "id": "3f5a7bfb",
   "metadata": {},
   "outputs": [],
   "source": [
    "### to setup email and passsword"
   ]
  },
  {
   "cell_type": "code",
   "execution_count": 31,
   "id": "1a4ff4d5",
   "metadata": {},
   "outputs": [
    {
     "name": "stdout",
     "output_type": "stream",
     "text": [
      "what is your password:dsvds\n"
     ]
    },
    {
     "data": {
      "text/plain": [
       "'dsvds'"
      ]
     },
     "execution_count": 31,
     "metadata": {},
     "output_type": "execute_result"
    }
   ],
   "source": [
    "input(\"what is your password:\")"
   ]
  },
  {
   "cell_type": "code",
   "execution_count": 32,
   "id": "2ff58b80",
   "metadata": {},
   "outputs": [],
   "source": [
    "import getpass         ####  secure way to pass your information "
   ]
  },
  {
   "cell_type": "code",
   "execution_count": 33,
   "id": "3ab27269",
   "metadata": {},
   "outputs": [
    {
     "name": "stdout",
     "output_type": "stream",
     "text": [
      "password please:········\n"
     ]
    }
   ],
   "source": [
    "password=getpass.getpass('password please:')"
   ]
  },
  {
   "cell_type": "code",
   "execution_count": 34,
   "id": "a52bc38d",
   "metadata": {},
   "outputs": [],
   "source": [
    "###   to generate password"
   ]
  },
  {
   "cell_type": "code",
   "execution_count": 35,
   "id": "e787a9f3",
   "metadata": {},
   "outputs": [],
   "source": [
    "## Note for Gmail Users, you need to generate an app password instead of your normal email password. \n",
    "## This also requires enabling 2-step authentication. Follow the instructions here to set-up 2-Step Factor\n",
    "## Authentication as well as App Password Generation:https://support.google.com/accounts/answer/185833?hl=en/. \n",
    "## Set-up 2 Factor Authentication, then create the App Password, choose Mail as the App and give it any name you\n",
    "### want. This will output a 16 letter password for you. Pass in this password as your login password for the smtp."
   ]
  },
  {
   "cell_type": "code",
   "execution_count": 36,
   "id": "45c65bc3",
   "metadata": {},
   "outputs": [
    {
     "name": "stdout",
     "output_type": "stream",
     "text": [
      "Email:········\n",
      "Password:········\n"
     ]
    },
    {
     "data": {
      "text/plain": [
       "(235, b'2.7.0 Accepted')"
      ]
     },
     "execution_count": 36,
     "metadata": {},
     "output_type": "execute_result"
    }
   ],
   "source": [
    "email=getpass.getpass(\"Email:\")\n",
    "password=getpass.getpass(\"Password:\")\n",
    "smtp_object.login(email,password)"
   ]
  },
  {
   "cell_type": "code",
   "execution_count": 38,
   "id": "46bd77e9",
   "metadata": {},
   "outputs": [],
   "source": [
    "###  now immediately send email because if you will come back after hours then you will be disconnected\n",
    "###    and you have to regenrate the password again"
   ]
  },
  {
   "cell_type": "code",
   "execution_count": 39,
   "id": "21781028",
   "metadata": {},
   "outputs": [
    {
     "name": "stdout",
     "output_type": "stream",
     "text": [
      "enter the subject line: testing how to mail through python\n",
      "enter the body message: hello this is a test\n"
     ]
    },
    {
     "data": {
      "text/plain": [
       "{}"
      ]
     },
     "execution_count": 39,
     "metadata": {},
     "output_type": "execute_result"
    }
   ],
   "source": [
    "from_address=email\n",
    "to_address=email\n",
    "subject=input(\"enter the subject line: \")\n",
    "message=input(\"enter the body message: \")\n",
    "msg=\"Subject: \"  +subject+'\\n'+message\n",
    "smtp_object.sendmail(from_address,to_address,msg)"
   ]
  },
  {
   "cell_type": "code",
   "execution_count": 40,
   "id": "e882fc03",
   "metadata": {},
   "outputs": [],
   "source": [
    "####  if we are getting  empty dictionary as {} ,then it means that sending is successful"
   ]
  },
  {
   "cell_type": "code",
   "execution_count": 41,
   "id": "543f4c85",
   "metadata": {},
   "outputs": [],
   "source": [
    "###  now once we have send our email then we want to quit and close session"
   ]
  },
  {
   "cell_type": "code",
   "execution_count": 42,
   "id": "629f3409",
   "metadata": {},
   "outputs": [
    {
     "data": {
      "text/plain": [
       "(221, b'2.0.0 closing connection h6sm12272449pfr.121 - gsmtp')"
      ]
     },
     "execution_count": 42,
     "metadata": {},
     "output_type": "execute_result"
    }
   ],
   "source": [
    "smtp_object.quit()"
   ]
  },
  {
   "cell_type": "code",
   "execution_count": null,
   "id": "e7ee7b1f",
   "metadata": {},
   "outputs": [],
   "source": []
  }
 ],
 "metadata": {
  "kernelspec": {
   "display_name": "Python 3",
   "language": "python",
   "name": "python3"
  },
  "language_info": {
   "codemirror_mode": {
    "name": "ipython",
    "version": 3
   },
   "file_extension": ".py",
   "mimetype": "text/x-python",
   "name": "python",
   "nbconvert_exporter": "python",
   "pygments_lexer": "ipython3",
   "version": "3.8.8"
  }
 },
 "nbformat": 4,
 "nbformat_minor": 5
}
