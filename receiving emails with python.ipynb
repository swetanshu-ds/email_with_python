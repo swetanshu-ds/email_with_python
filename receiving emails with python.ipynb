{
 "cells": [
  {
   "cell_type": "code",
   "execution_count": 1,
   "id": "e2cf1db1",
   "metadata": {},
   "outputs": [],
   "source": [
    "##  imaplib library and email library"
   ]
  },
  {
   "cell_type": "code",
   "execution_count": 2,
   "id": "f6fddb61",
   "metadata": {},
   "outputs": [],
   "source": [
    "### imaplib ==== is used to searching in your inbox"
   ]
  },
  {
   "cell_type": "markdown",
   "id": "79d12ee7",
   "metadata": {},
   "source": [
    "##   Viewing emails"
   ]
  },
  {
   "cell_type": "code",
   "execution_count": 3,
   "id": "b8bac434",
   "metadata": {},
   "outputs": [],
   "source": [
    "import imaplib"
   ]
  },
  {
   "cell_type": "code",
   "execution_count": 33,
   "id": "1df8f925",
   "metadata": {},
   "outputs": [],
   "source": [
    "###   now make connection to IMAP server"
   ]
  },
  {
   "cell_type": "code",
   "execution_count": 4,
   "id": "8019b6b1",
   "metadata": {},
   "outputs": [],
   "source": [
    "M=imaplib.IMAP4_SSL('imap.gmail.com')"
   ]
  },
  {
   "cell_type": "code",
   "execution_count": 5,
   "id": "91ceacea",
   "metadata": {},
   "outputs": [],
   "source": [
    "import getpass"
   ]
  },
  {
   "cell_type": "code",
   "execution_count": 34,
   "id": "fec5c48b",
   "metadata": {},
   "outputs": [],
   "source": [
    "### now grab your email and password"
   ]
  },
  {
   "cell_type": "code",
   "execution_count": 6,
   "id": "ad29fc83",
   "metadata": {},
   "outputs": [
    {
     "name": "stdout",
     "output_type": "stream",
     "text": [
      "Email: ········\n",
      "Password: ········\n"
     ]
    }
   ],
   "source": [
    "email=getpass.getpass(\"Email: \")\n",
    "password=getpass.getpass(\"Password: \")"
   ]
  },
  {
   "cell_type": "code",
   "execution_count": 7,
   "id": "543de7b4",
   "metadata": {},
   "outputs": [
    {
     "data": {
      "text/plain": [
       "('OK', [b'swetanshupandey1722@gmail.com authenticated (Success)'])"
      ]
     },
     "execution_count": 7,
     "metadata": {},
     "output_type": "execute_result"
    }
   ],
   "source": [
    "M.login(email,password)"
   ]
  },
  {
   "cell_type": "code",
   "execution_count": 8,
   "id": "b83b4e08",
   "metadata": {},
   "outputs": [
    {
     "data": {
      "text/plain": [
       "('OK',\n",
       " [b'(\\\\HasNoChildren) \"/\" \"INBOX\"',\n",
       "  b'(\\\\HasChildren \\\\Noselect) \"/\" \"[Gmail]\"',\n",
       "  b'(\\\\All \\\\HasNoChildren) \"/\" \"[Gmail]/All Mail\"',\n",
       "  b'(\\\\Drafts \\\\HasNoChildren) \"/\" \"[Gmail]/Drafts\"',\n",
       "  b'(\\\\HasNoChildren \\\\Important) \"/\" \"[Gmail]/Important\"',\n",
       "  b'(\\\\HasNoChildren \\\\Sent) \"/\" \"[Gmail]/Sent Mail\"',\n",
       "  b'(\\\\HasNoChildren \\\\Junk) \"/\" \"[Gmail]/Spam\"',\n",
       "  b'(\\\\Flagged \\\\HasNoChildren) \"/\" \"[Gmail]/Starred\"',\n",
       "  b'(\\\\HasNoChildren \\\\Trash) \"/\" \"[Gmail]/Trash\"'])"
      ]
     },
     "execution_count": 8,
     "metadata": {},
     "output_type": "execute_result"
    }
   ],
   "source": [
    "M.list()"
   ]
  },
  {
   "cell_type": "code",
   "execution_count": 9,
   "id": "7e56c223",
   "metadata": {},
   "outputs": [
    {
     "data": {
      "text/plain": [
       "('OK', [b'74'])"
      ]
     },
     "execution_count": 9,
     "metadata": {},
     "output_type": "execute_result"
    }
   ],
   "source": [
    "M.select('inbox')"
   ]
  },
  {
   "cell_type": "code",
   "execution_count": 10,
   "id": "e3ec1890",
   "metadata": {},
   "outputs": [],
   "source": [
    "###   [b'74']   is a some sort of coonection number"
   ]
  },
  {
   "cell_type": "code",
   "execution_count": 12,
   "id": "2e0f69dd",
   "metadata": {},
   "outputs": [],
   "source": [
    "### and now we are connected to our mail,we are going \n",
    "#### to search for it using specialized syntax of imap"
   ]
  },
  {
   "cell_type": "code",
   "execution_count": 35,
   "id": "415aae7a",
   "metadata": {},
   "outputs": [],
   "source": [
    "###   use the special syntax code,search for whatever you are looking for"
   ]
  },
  {
   "cell_type": "code",
   "execution_count": 13,
   "id": "865c3313",
   "metadata": {},
   "outputs": [],
   "source": [
    "typ,data=M.search(None,'SUBJECT \"testing how to mail through python\"')"
   ]
  },
  {
   "cell_type": "code",
   "execution_count": 14,
   "id": "3c080a75",
   "metadata": {},
   "outputs": [
    {
     "data": {
      "text/plain": [
       "'OK'"
      ]
     },
     "execution_count": 14,
     "metadata": {},
     "output_type": "execute_result"
    }
   ],
   "source": [
    "typ"
   ]
  },
  {
   "cell_type": "code",
   "execution_count": 36,
   "id": "99b1e71d",
   "metadata": {},
   "outputs": [],
   "source": [
    "###  data is list of actual email_ids"
   ]
  },
  {
   "cell_type": "code",
   "execution_count": 15,
   "id": "d0944021",
   "metadata": {},
   "outputs": [
    {
     "data": {
      "text/plain": [
       "[b'71']"
      ]
     },
     "execution_count": 15,
     "metadata": {},
     "output_type": "execute_result"
    }
   ],
   "source": [
    "data"
   ]
  },
  {
   "cell_type": "code",
   "execution_count": 16,
   "id": "08e77b37",
   "metadata": {},
   "outputs": [
    {
     "data": {
      "text/plain": [
       "b'71'"
      ]
     },
     "execution_count": 16,
     "metadata": {},
     "output_type": "execute_result"
    }
   ],
   "source": [
    "data[0]"
   ]
  },
  {
   "cell_type": "code",
   "execution_count": 17,
   "id": "357d1e02",
   "metadata": {},
   "outputs": [],
   "source": [
    "email_id=data[0]"
   ]
  },
  {
   "cell_type": "code",
   "execution_count": 37,
   "id": "8d2751a1",
   "metadata": {},
   "outputs": [],
   "source": [
    "### once we got the email ids we have to fetch them and RFC822 is a protocol for fetching in"
   ]
  },
  {
   "cell_type": "code",
   "execution_count": 18,
   "id": "332585a0",
   "metadata": {},
   "outputs": [],
   "source": [
    "result,email_data=M.fetch(email_id,'(RFC822)')"
   ]
  },
  {
   "cell_type": "code",
   "execution_count": 26,
   "id": "4b559ced",
   "metadata": {},
   "outputs": [
    {
     "data": {
      "text/plain": [
       "[(b'71 (RFC822 {612}',\n",
       "  b'Bcc: swetanshupandey1722@gmail.com\\r\\nReturn-Path: <swetanshupandey1722@gmail.com>\\r\\nReceived: from [192.168.29.138] ([2405:201:6018:2039:f4e2:e246:d3ed:65d5])\\r\\n        by smtp.gmail.com with ESMTPSA id h6sm12272449pfr.121.2021.09.14.22.01.24\\r\\n        for <swetanshupandey1722@gmail.com>\\r\\n        (version=TLS1_3 cipher=TLS_AES_256_GCM_SHA384 bits=256/256);\\r\\n        Tue, 14 Sep 2021 22:01:25 -0700 (PDT)\\r\\nMessage-ID: <61417e25.1c69fb81.16657.5910@mx.google.com>\\r\\nDate: Tue, 14 Sep 2021 22:01:25 -0700 (PDT)\\r\\nFrom: swetanshupandey1722@gmail.com\\r\\nSubject: testing how to mail through python\\r\\n\\r\\nhello this is a test\\r\\n'),\n",
       " b')']"
      ]
     },
     "execution_count": 26,
     "metadata": {},
     "output_type": "execute_result"
    }
   ],
   "source": [
    "email_data"
   ]
  },
  {
   "cell_type": "code",
   "execution_count": 20,
   "id": "e892610d",
   "metadata": {},
   "outputs": [
    {
     "data": {
      "text/plain": [
       "'OK'"
      ]
     },
     "execution_count": 20,
     "metadata": {},
     "output_type": "execute_result"
    }
   ],
   "source": [
    "result"
   ]
  },
  {
   "cell_type": "code",
   "execution_count": 23,
   "id": "dc68059d",
   "metadata": {},
   "outputs": [],
   "source": [
    "raw_email=email_data[0][1]"
   ]
  },
  {
   "cell_type": "code",
   "execution_count": 27,
   "id": "69275d84",
   "metadata": {},
   "outputs": [],
   "source": [
    "raw_email_string=raw_email.decode('utf-8')"
   ]
  },
  {
   "cell_type": "code",
   "execution_count": 28,
   "id": "448bb769",
   "metadata": {},
   "outputs": [],
   "source": [
    "import email"
   ]
  },
  {
   "cell_type": "code",
   "execution_count": 29,
   "id": "4769bee6",
   "metadata": {},
   "outputs": [],
   "source": [
    "email_message=email.message_from_string(raw_email_string)"
   ]
  },
  {
   "cell_type": "code",
   "execution_count": 30,
   "id": "17b73d3a",
   "metadata": {},
   "outputs": [
    {
     "data": {
      "text/plain": [
       "<email.message.Message at 0x1e0aaedb0d0>"
      ]
     },
     "execution_count": 30,
     "metadata": {},
     "output_type": "execute_result"
    }
   ],
   "source": [
    "email_message"
   ]
  },
  {
   "cell_type": "code",
   "execution_count": 31,
   "id": "7341110b",
   "metadata": {},
   "outputs": [
    {
     "name": "stdout",
     "output_type": "stream",
     "text": [
      "b'hello this is a test\\r\\n'\n"
     ]
    }
   ],
   "source": [
    "for part in email_message.walk():\n",
    "    if part.get_content_type()=='text/plain':\n",
    "        body=part.get_payload(decode=True)\n",
    "        print(body)"
   ]
  },
  {
   "cell_type": "code",
   "execution_count": 32,
   "id": "6c0449e7",
   "metadata": {},
   "outputs": [
    {
     "name": "stdout",
     "output_type": "stream",
     "text": [
      "b'hello this is a test\\r\\n'\n"
     ]
    }
   ],
   "source": [
    "for part in email_message.walk():\n",
    "    if part.get_content_type()=='text/plain':\n",
    "        body=part.get_payload(decode=True)\n",
    "        print(body)"
   ]
  },
  {
   "cell_type": "code",
   "execution_count": null,
   "id": "16e83cc5",
   "metadata": {},
   "outputs": [],
   "source": []
  }
 ],
 "metadata": {
  "kernelspec": {
   "display_name": "Python 3",
   "language": "python",
   "name": "python3"
  },
  "language_info": {
   "codemirror_mode": {
    "name": "ipython",
    "version": 3
   },
   "file_extension": ".py",
   "mimetype": "text/x-python",
   "name": "python",
   "nbconvert_exporter": "python",
   "pygments_lexer": "ipython3",
   "version": "3.8.8"
  }
 },
 "nbformat": 4,
 "nbformat_minor": 5
}
